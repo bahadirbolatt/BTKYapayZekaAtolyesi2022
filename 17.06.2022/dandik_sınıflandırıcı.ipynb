{
 "cells": [
  {
   "cell_type": "code",
   "execution_count": 21,
   "metadata": {},
   "outputs": [],
   "source": [
    "import pandas as pd\n",
    "import matplotlib.pyplot as plt\n",
    "import sklearn as sk\n",
    "import numpy as np\n",
    "from sklearn.model_selection import train_test_split"
   ]
  },
  {
   "cell_type": "code",
   "execution_count": 3,
   "metadata": {},
   "outputs": [],
   "source": [
    "df = pd.read_excel(\"TümörVerisi.xlsx\")"
   ]
  },
  {
   "cell_type": "code",
   "execution_count": 6,
   "metadata": {},
   "outputs": [
    {
     "data": {
      "text/html": [
       "<div>\n",
       "<style scoped>\n",
       "    .dataframe tbody tr th:only-of-type {\n",
       "        vertical-align: middle;\n",
       "    }\n",
       "\n",
       "    .dataframe tbody tr th {\n",
       "        vertical-align: top;\n",
       "    }\n",
       "\n",
       "    .dataframe thead th {\n",
       "        text-align: right;\n",
       "    }\n",
       "</style>\n",
       "<table border=\"1\" class=\"dataframe\">\n",
       "  <thead>\n",
       "    <tr style=\"text-align: right;\">\n",
       "      <th></th>\n",
       "      <th>Hasta ID</th>\n",
       "      <th>Tümör Yarıçapı (mm)</th>\n",
       "      <th>Tümör Hacmi (mm3)</th>\n",
       "      <th>Bağ Dokusu (Yok = 0; Var = 1)</th>\n",
       "      <th>Diferansiasyon Hızı (mm/yıl)</th>\n",
       "      <th>Etiket (İyi Huylu = 0; Kötü Huylu = 1)</th>\n",
       "      <th>Naif Algoritma</th>\n",
       "      <th>False Positive</th>\n",
       "      <th>False Negative</th>\n",
       "    </tr>\n",
       "  </thead>\n",
       "  <tbody>\n",
       "    <tr>\n",
       "      <th>0</th>\n",
       "      <td>1.0</td>\n",
       "      <td>102.0</td>\n",
       "      <td>4.441814e+06</td>\n",
       "      <td>1.0</td>\n",
       "      <td>0.229958</td>\n",
       "      <td>1.0</td>\n",
       "      <td>1</td>\n",
       "      <td>0.0</td>\n",
       "      <td>0.0</td>\n",
       "    </tr>\n",
       "    <tr>\n",
       "      <th>1</th>\n",
       "      <td>2.0</td>\n",
       "      <td>79.0</td>\n",
       "      <td>2.063676e+06</td>\n",
       "      <td>0.0</td>\n",
       "      <td>12.757216</td>\n",
       "      <td>1.0</td>\n",
       "      <td>1</td>\n",
       "      <td>0.0</td>\n",
       "      <td>0.0</td>\n",
       "    </tr>\n",
       "    <tr>\n",
       "      <th>2</th>\n",
       "      <td>3.0</td>\n",
       "      <td>8.0</td>\n",
       "      <td>2.143569e+03</td>\n",
       "      <td>1.0</td>\n",
       "      <td>8.317290</td>\n",
       "      <td>0.0</td>\n",
       "      <td>0</td>\n",
       "      <td>0.0</td>\n",
       "      <td>0.0</td>\n",
       "    </tr>\n",
       "    <tr>\n",
       "      <th>3</th>\n",
       "      <td>4.0</td>\n",
       "      <td>46.0</td>\n",
       "      <td>4.074118e+05</td>\n",
       "      <td>1.0</td>\n",
       "      <td>6.818729</td>\n",
       "      <td>1.0</td>\n",
       "      <td>0</td>\n",
       "      <td>0.0</td>\n",
       "      <td>1.0</td>\n",
       "    </tr>\n",
       "    <tr>\n",
       "      <th>4</th>\n",
       "      <td>5.0</td>\n",
       "      <td>18.0</td>\n",
       "      <td>2.441131e+04</td>\n",
       "      <td>1.0</td>\n",
       "      <td>2.802301</td>\n",
       "      <td>0.0</td>\n",
       "      <td>0</td>\n",
       "      <td>0.0</td>\n",
       "      <td>0.0</td>\n",
       "    </tr>\n",
       "  </tbody>\n",
       "</table>\n",
       "</div>"
      ],
      "text/plain": [
       "   Hasta ID  Tümör Yarıçapı (mm)  Tümör Hacmi (mm3)  \\\n",
       "0       1.0                102.0       4.441814e+06   \n",
       "1       2.0                 79.0       2.063676e+06   \n",
       "2       3.0                  8.0       2.143569e+03   \n",
       "3       4.0                 46.0       4.074118e+05   \n",
       "4       5.0                 18.0       2.441131e+04   \n",
       "\n",
       "   Bağ Dokusu (Yok = 0; Var = 1)  Diferansiasyon Hızı (mm/yıl)  \\\n",
       "0                            1.0                      0.229958   \n",
       "1                            0.0                     12.757216   \n",
       "2                            1.0                      8.317290   \n",
       "3                            1.0                      6.818729   \n",
       "4                            1.0                      2.802301   \n",
       "\n",
       "   Etiket (İyi Huylu = 0; Kötü Huylu = 1) Naif Algoritma  False Positive  \\\n",
       "0                                     1.0              1             0.0   \n",
       "1                                     1.0              1             0.0   \n",
       "2                                     0.0              0             0.0   \n",
       "3                                     1.0              0             0.0   \n",
       "4                                     0.0              0             0.0   \n",
       "\n",
       "   False Negative  \n",
       "0             0.0  \n",
       "1             0.0  \n",
       "2             0.0  \n",
       "3             1.0  \n",
       "4             0.0  "
      ]
     },
     "execution_count": 6,
     "metadata": {},
     "output_type": "execute_result"
    }
   ],
   "source": [
    "df.head()"
   ]
  },
  {
   "cell_type": "code",
   "execution_count": 8,
   "metadata": {},
   "outputs": [],
   "source": [
    "# dandik fonksiyon\n",
    "def Perform_Naive_Classification (df,threshold=.5):\n",
    "    result_array = []\n",
    "    benign = 0\n",
    "    malign = 1\n",
    "    for i in range(len(df[\"Hasta ID\"])):\n",
    "        a = df[\"Tümör Yarıçapı (mm)\"].iloc[i]\n",
    "        if a >= threshold:\n",
    "            result_array.append(malign)\n",
    "        else:\n",
    "            result_array.append(benign)\n",
    "    return result_array\n",
    "            \n",
    "        \n",
    "    \n",
    "    "
   ]
  },
  {
   "cell_type": "code",
   "execution_count": 63,
   "metadata": {},
   "outputs": [],
   "source": [
    "# dandik fonksiyon\n",
    "def Perform_Naive_Classification2 (df,threshold=.5):\n",
    "    result_array = []\n",
    "    benign = 0\n",
    "    malign = 1\n",
    "    for i in range(len(df[\"Hasta ID\"])):\n",
    "        a = df[\"Tümör Yarıçapı (mm)\"].iloc[i]\n",
    "        b = df[\"Bağ Dokusu (Yok = 0; Var = 1)\"].iloc[i]\n",
    "        if a >= threshold or b==1:\n",
    "            result_array.append(malign)\n",
    "        else:\n",
    "            result_array.append(benign)\n",
    "    return result_array\n",
    "            \n",
    "        "
   ]
  },
  {
   "cell_type": "code",
   "execution_count": 14,
   "metadata": {},
   "outputs": [
    {
     "data": {
      "text/plain": [
       "<AxesSubplot:ylabel='Count'>"
      ]
     },
     "execution_count": 14,
     "metadata": {},
     "output_type": "execute_result"
    },
    {
     "data": {
      "image/png": "[encoded data removed]",
      "text/plain": [
       "<Figure size 432x288 with 1 Axes>"
      ]
     },
     "metadata": {
      "needs_background": "light"
     },
     "output_type": "display_data"
    }
   ],
   "source": [
    "result = Perform_Naive_Classification(df,40)\n",
    "import seaborn as sns\n",
    "sns.histplot(result,kde=True)"
   ]
  },
  {
   "cell_type": "code",
   "execution_count": 15,
   "metadata": {},
   "outputs": [],
   "source": [
    "# daha az dandik fonksiyon\n",
    "def Perform_Naive_Classification_with_apply_func (df,threshold=.5):\n",
    "    df[\"Output\"]=df[\"Tümör Yarıçapı (mm)\"].apply(lambda x : 1 if x>= threshold else 0)\n",
    "    return df[\"Output\"]"
   ]
  },
  {
   "cell_type": "code",
   "execution_count": 22,
   "metadata": {},
   "outputs": [
    {
     "data": {
      "image/png": "[encoded data removed]",
      "text/plain": [
       "<Figure size 432x288 with 1 Axes>"
      ]
     },
     "metadata": {
      "needs_background": "light"
     },
     "output_type": "display_data"
    }
   ],
   "source": [
    "result = Perform_Naive_Classification_with_apply_func(df,40)\n",
    "sns.histplot(result,kde=True)\n",
    "plt.show()"
   ]
  },
  {
   "cell_type": "code",
   "execution_count": 24,
   "metadata": {},
   "outputs": [],
   "source": [
    "# daha daha az dandik fonksiyon\n",
    "import numpy as np\n",
    "def Perform_Naive_Classification_with_np (df,threshold=.5):\n",
    "    return np.array(df[\"Tümör Yarıçapı (mm)\"]>=threshold,dtype=np.float)"
   ]
  },
  {
   "cell_type": "code",
   "execution_count": 25,
   "metadata": {},
   "outputs": [
    {
     "data": {
      "image/png": "[encoded data removed]",
      "text/plain": [
       "<Figure size 432x288 with 1 Axes>"
      ]
     },
     "metadata": {
      "needs_background": "light"
     },
     "output_type": "display_data"
    }
   ],
   "source": [
    "result = Perform_Naive_Classification_with_np(df,40)\n",
    "sns.histplot(result,kde=True)\n",
    "plt.show()"
   ]
  },
  {
   "cell_type": "code",
   "execution_count": 36,
   "metadata": {},
   "outputs": [],
   "source": [
    "# Performance\n",
    "def Evaluate_Performance(df,result_array):\n",
    "    number_of_true_positives = 0\n",
    "    number_of_true_negatives = 0\n",
    "    number_of_false_positives = 0\n",
    "    number_of_false_negatives = 0\n",
    "    for i in range(len(df[\"Hasta ID\"])):\n",
    "        truth = df[\"Etiket (İyi Huylu = 0; Kötü Huylu = 1)\"].iloc[i]\n",
    "        response = result_array[i]\n",
    "        if truth == 1 and response == 1:\n",
    "            number_of_true_positives += 1\n",
    "        elif truth == 1 and response == 0:\n",
    "            number_of_false_negatives += 1\n",
    "        elif truth == 0 and response == 0:\n",
    "            number_of_true_negatives += 1\n",
    "        else:\n",
    "            number_of_false_positives += 1\n",
    "    tp = number_of_true_positives\n",
    "    tn = number_of_true_negatives\n",
    "    fp = number_of_false_positives\n",
    "    fn = number_of_false_negatives\n",
    "    sensitivity = tp/(tp+fn)\n",
    "    specificity = tn/(tn+fp)\n",
    "    accuracy = (tp+tn)/(tp+tn+fp+fn)\n",
    "    precision = tp/(tp+fp)\n",
    "    f1_score = (2*precision*sensitivity)/(precision+sensitivity)\n",
    "    false_positive_rate = 1-specificity\n",
    "    print('Sensitivity: {}, \\nSpecificity: {}, \\nAccuracy: {}, \\nPrecision: {}, \\nF1 Score: {}, \\nFalse Positive Rate: {}'.format(sensitivity,specificity,accuracy,precision,f1_score,false_positive_rate))\n",
    "    return sensitivity,specificity,accuracy,precision,f1_score,false_positive_rate\n",
    "    \n",
    "    "
   ]
  },
  {
   "cell_type": "code",
   "execution_count": 37,
   "metadata": {},
   "outputs": [
    {
     "name": "stdout",
     "output_type": "stream",
     "text": [
      "Sensitivity: 0.8189655172413793, \n",
      "Specificity: 0.5581395348837209, \n",
      "Accuracy: 0.7079207920792079, \n",
      "Precision: 0.7142857142857143, \n",
      "F1 Score: 0.7630522088353414, \n",
      "False Positive Rate: 0.4418604651162791\n"
     ]
    },
    {
     "data": {
      "text/plain": [
       "(0.8189655172413793,\n",
       " 0.5581395348837209,\n",
       " 0.7079207920792079,\n",
       " 0.7142857142857143,\n",
       " 0.7630522088353414,\n",
       " 0.4418604651162791)"
      ]
     },
     "execution_count": 37,
     "metadata": {},
     "output_type": "execute_result"
    }
   ],
   "source": [
    "Evaluate_Performance(df,result)"
   ]
  },
  {
   "cell_type": "code",
   "execution_count": 58,
   "metadata": {},
   "outputs": [],
   "source": [
    "def PerformROC_analysis(df):\n",
    "    threshold_upper_bound=100\n",
    "    step=10\n",
    "    array_1=[]\n",
    "    array_2=[]\n",
    "    for threshold in range(0,threshold_upper_bound,step):\n",
    "        result=Perform_Naive_Classification(df,threshold)\n",
    "        (sensitivity,specificity,accuracy,precision,f1_score,false_positive_rate)=Evaluate_Performance(df,result)\n",
    "        array_1.append(1-specificity)\n",
    "        array_2.append(sensitivity)\n",
    "        plt.plot((1-specificity),sensitivity,\"o\")\n",
    "    plt.plot(np.array(array_1),np.array(array_2))\n",
    "    "
   ]
  },
  {
   "cell_type": "code",
   "execution_count": 51,
   "metadata": {},
   "outputs": [
    {
     "name": "stdout",
     "output_type": "stream",
     "text": [
      "Sensitivity: 0.9741379310344828, \n",
      "Specificity: 0.023255813953488372, \n",
      "Accuracy: 0.5693069306930693, \n",
      "Precision: 0.5736040609137056, \n",
      "F1 Score: 0.7220447284345048, \n",
      "False Positive Rate: 0.9767441860465116\n",
      "Sensitivity: 0.9224137931034483, \n",
      "Specificity: 0.12790697674418605, \n",
      "Accuracy: 0.5841584158415841, \n",
      "Precision: 0.5879120879120879, \n",
      "F1 Score: 0.7181208053691275, \n",
      "False Positive Rate: 0.872093023255814\n",
      "Sensitivity: 0.8879310344827587, \n",
      "Specificity: 0.29069767441860467, \n",
      "Accuracy: 0.6336633663366337, \n",
      "Precision: 0.6280487804878049, \n",
      "F1 Score: 0.7357142857142858, \n",
      "False Positive Rate: 0.7093023255813953\n",
      "Sensitivity: 0.8362068965517241, \n",
      "Specificity: 0.47674418604651164, \n",
      "Accuracy: 0.6831683168316832, \n",
      "Precision: 0.6830985915492958, \n",
      "F1 Score: 0.7519379844961241, \n",
      "False Positive Rate: 0.5232558139534884\n",
      "Sensitivity: 0.8189655172413793, \n",
      "Specificity: 0.5581395348837209, \n",
      "Accuracy: 0.7079207920792079, \n",
      "Precision: 0.7142857142857143, \n",
      "F1 Score: 0.7630522088353414, \n",
      "False Positive Rate: 0.4418604651162791\n",
      "Sensitivity: 0.7672413793103449, \n",
      "Specificity: 0.627906976744186, \n",
      "Accuracy: 0.7079207920792079, \n",
      "Precision: 0.7355371900826446, \n",
      "F1 Score: 0.7510548523206753, \n",
      "False Positive Rate: 0.37209302325581395\n",
      "Sensitivity: 0.6810344827586207, \n",
      "Specificity: 0.6627906976744186, \n",
      "Accuracy: 0.6732673267326733, \n",
      "Precision: 0.7314814814814815, \n",
      "F1 Score: 0.7053571428571428, \n",
      "False Positive Rate: 0.33720930232558144\n",
      "Sensitivity: 0.5258620689655172, \n",
      "Specificity: 0.7093023255813954, \n",
      "Accuracy: 0.6039603960396039, \n",
      "Precision: 0.7093023255813954, \n",
      "F1 Score: 0.603960396039604, \n",
      "False Positive Rate: 0.2906976744186046\n",
      "Sensitivity: 0.4396551724137931, \n",
      "Specificity: 0.7790697674418605, \n",
      "Accuracy: 0.5841584158415841, \n",
      "Precision: 0.7285714285714285, \n",
      "F1 Score: 0.5483870967741935, \n",
      "False Positive Rate: 0.22093023255813948\n",
      "Sensitivity: 0.3275862068965517, \n",
      "Specificity: 0.8023255813953488, \n",
      "Accuracy: 0.5297029702970297, \n",
      "Precision: 0.6909090909090909, \n",
      "F1 Score: 0.4444444444444445, \n",
      "False Positive Rate: 0.19767441860465118\n"
     ]
    },
    {
     "data": {
      "image/png": "[encoded data removed]",
      "text/plain": [
       "<Figure size 432x288 with 1 Axes>"
      ]
     },
     "metadata": {
      "needs_background": "light"
     },
     "output_type": "display_data"
    }
   ],
   "source": [
    "PerformROC_analysis(df)\n",
    "plt.show()"
   ]
  },
  {
   "cell_type": "code",
   "execution_count": 64,
   "metadata": {},
   "outputs": [],
   "source": [
    "def PerformROC_analysis2(df):\n",
    "    threshold_upper_bound=100\n",
    "    step=10\n",
    "    array_1=[]\n",
    "    array_2=[]\n",
    "    for threshold in range(0,threshold_upper_bound,step):\n",
    "        result=Perform_Naive_Classification2(df,threshold)\n",
    "        (sensitivity,specificity,accuracy,precision,f1_score,false_positive_rate)=Evaluate_Performance(df,result)\n",
    "        array_1.append(1-specificity)\n",
    "        array_2.append(sensitivity)\n",
    "        plt.plot((1-specificity),sensitivity,\"o\")\n",
    "    plt.plot(np.array(array_1),np.array(array_2))\n",
    "    "
   ]
  },
  {
   "cell_type": "code",
   "execution_count": 65,
   "metadata": {},
   "outputs": [
    {
     "name": "stdout",
     "output_type": "stream",
     "text": [
      "Sensitivity: 1.0, \n",
      "Specificity: 0.011627906976744186, \n",
      "Accuracy: 0.5792079207920792, \n",
      "Precision: 0.5771144278606966, \n",
      "F1 Score: 0.7318611987381703, \n",
      "False Positive Rate: 0.9883720930232558\n",
      "Sensitivity: 0.9913793103448276, \n",
      "Specificity: 0.03488372093023256, \n",
      "Accuracy: 0.5841584158415841, \n",
      "Precision: 0.5808080808080808, \n",
      "F1 Score: 0.7324840764331211, \n",
      "False Positive Rate: 0.9651162790697675\n",
      "Sensitivity: 0.9827586206896551, \n",
      "Specificity: 0.12790697674418605, \n",
      "Accuracy: 0.6188118811881188, \n",
      "Precision: 0.6031746031746031, \n",
      "F1 Score: 0.7475409836065573, \n",
      "False Positive Rate: 0.872093023255814\n",
      "Sensitivity: 0.9568965517241379, \n",
      "Specificity: 0.2441860465116279, \n",
      "Accuracy: 0.6534653465346535, \n",
      "Precision: 0.6306818181818182, \n",
      "F1 Score: 0.7602739726027398, \n",
      "False Positive Rate: 0.7558139534883721\n",
      "Sensitivity: 0.9568965517241379, \n",
      "Specificity: 0.26744186046511625, \n",
      "Accuracy: 0.6633663366336634, \n",
      "Precision: 0.6379310344827587, \n",
      "F1 Score: 0.7655172413793104, \n",
      "False Positive Rate: 0.7325581395348837\n",
      "Sensitivity: 0.9482758620689655, \n",
      "Specificity: 0.32558139534883723, \n",
      "Accuracy: 0.6831683168316832, \n",
      "Precision: 0.6547619047619048, \n",
      "F1 Score: 0.7746478873239436, \n",
      "False Positive Rate: 0.6744186046511628\n",
      "Sensitivity: 0.9224137931034483, \n",
      "Specificity: 0.3488372093023256, \n",
      "Accuracy: 0.6782178217821783, \n",
      "Precision: 0.656441717791411, \n",
      "F1 Score: 0.7670250896057348, \n",
      "False Positive Rate: 0.6511627906976745\n",
      "Sensitivity: 0.8879310344827587, \n",
      "Specificity: 0.3953488372093023, \n",
      "Accuracy: 0.6782178217821783, \n",
      "Precision: 0.6645161290322581, \n",
      "F1 Score: 0.7601476014760148, \n",
      "False Positive Rate: 0.6046511627906976\n",
      "Sensitivity: 0.8706896551724138, \n",
      "Specificity: 0.46511627906976744, \n",
      "Accuracy: 0.698019801980198, \n",
      "Precision: 0.6870748299319728, \n",
      "F1 Score: 0.7680608365019012, \n",
      "False Positive Rate: 0.5348837209302326\n",
      "Sensitivity: 0.8448275862068966, \n",
      "Specificity: 0.4883720930232558, \n",
      "Accuracy: 0.693069306930693, \n",
      "Precision: 0.6901408450704225, \n",
      "F1 Score: 0.7596899224806202, \n",
      "False Positive Rate: 0.5116279069767442\n"
     ]
    },
    {
     "data": {
      "image/png": "[encoded data removed]",
      "text/plain": [
       "<Figure size 432x288 with 1 Axes>"
      ]
     },
     "metadata": {
      "needs_background": "light"
     },
     "output_type": "display_data"
    }
   ],
   "source": [
    "PerformROC_analysis2(df)\n",
    "plt.show()"
   ]
  },
  {
   "cell_type": "code",
   "execution_count": 66,
   "metadata": {},
   "outputs": [
    {
     "name": "stdout",
     "output_type": "stream",
     "text": [
      "Sensitivity: 0.9741379310344828, \n",
      "Specificity: 0.023255813953488372, \n",
      "Accuracy: 0.5693069306930693, \n",
      "Precision: 0.5736040609137056, \n",
      "F1 Score: 0.7220447284345048, \n",
      "False Positive Rate: 0.9767441860465116\n",
      "Sensitivity: 0.9224137931034483, \n",
      "Specificity: 0.12790697674418605, \n",
      "Accuracy: 0.5841584158415841, \n",
      "Precision: 0.5879120879120879, \n",
      "F1 Score: 0.7181208053691275, \n",
      "False Positive Rate: 0.872093023255814\n",
      "Sensitivity: 0.8879310344827587, \n",
      "Specificity: 0.29069767441860467, \n",
      "Accuracy: 0.6336633663366337, \n",
      "Precision: 0.6280487804878049, \n",
      "F1 Score: 0.7357142857142858, \n",
      "False Positive Rate: 0.7093023255813953\n",
      "Sensitivity: 0.8362068965517241, \n",
      "Specificity: 0.47674418604651164, \n",
      "Accuracy: 0.6831683168316832, \n",
      "Precision: 0.6830985915492958, \n",
      "F1 Score: 0.7519379844961241, \n",
      "False Positive Rate: 0.5232558139534884\n",
      "Sensitivity: 0.8189655172413793, \n",
      "Specificity: 0.5581395348837209, \n",
      "Accuracy: 0.7079207920792079, \n",
      "Precision: 0.7142857142857143, \n",
      "F1 Score: 0.7630522088353414, \n",
      "False Positive Rate: 0.4418604651162791\n",
      "Sensitivity: 0.7672413793103449, \n",
      "Specificity: 0.627906976744186, \n",
      "Accuracy: 0.7079207920792079, \n",
      "Precision: 0.7355371900826446, \n",
      "F1 Score: 0.7510548523206753, \n",
      "False Positive Rate: 0.37209302325581395\n",
      "Sensitivity: 0.6810344827586207, \n",
      "Specificity: 0.6627906976744186, \n",
      "Accuracy: 0.6732673267326733, \n",
      "Precision: 0.7314814814814815, \n",
      "F1 Score: 0.7053571428571428, \n",
      "False Positive Rate: 0.33720930232558144\n",
      "Sensitivity: 0.5258620689655172, \n",
      "Specificity: 0.7093023255813954, \n",
      "Accuracy: 0.6039603960396039, \n",
      "Precision: 0.7093023255813954, \n",
      "F1 Score: 0.603960396039604, \n",
      "False Positive Rate: 0.2906976744186046\n",
      "Sensitivity: 0.4396551724137931, \n",
      "Specificity: 0.7790697674418605, \n",
      "Accuracy: 0.5841584158415841, \n",
      "Precision: 0.7285714285714285, \n",
      "F1 Score: 0.5483870967741935, \n",
      "False Positive Rate: 0.22093023255813948\n",
      "Sensitivity: 0.3275862068965517, \n",
      "Specificity: 0.8023255813953488, \n",
      "Accuracy: 0.5297029702970297, \n",
      "Precision: 0.6909090909090909, \n",
      "F1 Score: 0.4444444444444445, \n",
      "False Positive Rate: 0.19767441860465118\n",
      "Sensitivity: 1.0, \n",
      "Specificity: 0.011627906976744186, \n",
      "Accuracy: 0.5792079207920792, \n",
      "Precision: 0.5771144278606966, \n",
      "F1 Score: 0.7318611987381703, \n",
      "False Positive Rate: 0.9883720930232558\n",
      "Sensitivity: 0.9913793103448276, \n",
      "Specificity: 0.03488372093023256, \n",
      "Accuracy: 0.5841584158415841, \n",
      "Precision: 0.5808080808080808, \n",
      "F1 Score: 0.7324840764331211, \n",
      "False Positive Rate: 0.9651162790697675\n",
      "Sensitivity: 0.9827586206896551, \n",
      "Specificity: 0.12790697674418605, \n",
      "Accuracy: 0.6188118811881188, \n",
      "Precision: 0.6031746031746031, \n",
      "F1 Score: 0.7475409836065573, \n",
      "False Positive Rate: 0.872093023255814\n",
      "Sensitivity: 0.9568965517241379, \n",
      "Specificity: 0.2441860465116279, \n",
      "Accuracy: 0.6534653465346535, \n",
      "Precision: 0.6306818181818182, \n",
      "F1 Score: 0.7602739726027398, \n",
      "False Positive Rate: 0.7558139534883721\n",
      "Sensitivity: 0.9568965517241379, \n",
      "Specificity: 0.26744186046511625, \n",
      "Accuracy: 0.6633663366336634, \n",
      "Precision: 0.6379310344827587, \n",
      "F1 Score: 0.7655172413793104, \n",
      "False Positive Rate: 0.7325581395348837\n",
      "Sensitivity: 0.9482758620689655, \n",
      "Specificity: 0.32558139534883723, \n",
      "Accuracy: 0.6831683168316832, \n",
      "Precision: 0.6547619047619048, \n",
      "F1 Score: 0.7746478873239436, \n",
      "False Positive Rate: 0.6744186046511628\n",
      "Sensitivity: 0.9224137931034483, \n",
      "Specificity: 0.3488372093023256, \n",
      "Accuracy: 0.6782178217821783, \n",
      "Precision: 0.656441717791411, \n",
      "F1 Score: 0.7670250896057348, \n",
      "False Positive Rate: 0.6511627906976745\n",
      "Sensitivity: 0.8879310344827587, \n",
      "Specificity: 0.3953488372093023, \n",
      "Accuracy: 0.6782178217821783, \n",
      "Precision: 0.6645161290322581, \n",
      "F1 Score: 0.7601476014760148, \n",
      "False Positive Rate: 0.6046511627906976\n",
      "Sensitivity: 0.8706896551724138, \n",
      "Specificity: 0.46511627906976744, \n",
      "Accuracy: 0.698019801980198, \n",
      "Precision: 0.6870748299319728, \n",
      "F1 Score: 0.7680608365019012, \n",
      "False Positive Rate: 0.5348837209302326\n",
      "Sensitivity: 0.8448275862068966, \n",
      "Specificity: 0.4883720930232558, \n",
      "Accuracy: 0.693069306930693, \n",
      "Precision: 0.6901408450704225, \n",
      "F1 Score: 0.7596899224806202, \n",
      "False Positive Rate: 0.5116279069767442\n"
     ]
    },
    {
     "data": {
      "image/png": "[encoded data removed]",
      "text/plain": [
       "<Figure size 432x288 with 1 Axes>"
      ]
     },
     "metadata": {
      "needs_background": "light"
     },
     "output_type": "display_data"
    }
   ],
   "source": [
    "PerformROC_analysis(df)\n",
    "PerformROC_analysis2(df)\n",
    "plt.show()"
   ]
  },
  {
   "cell_type": "code",
   "execution_count": null,
   "metadata": {},
   "outputs": [],
   "source": []
  }
 ],
 "metadata": {
  "kernelspec": {
   "display_name": "Python 3",
   "language": "python",
   "name": "python3"
  },
  "language_info": {
   "codemirror_mode": {
    "name": "ipython",
    "version": 3
   },
   "file_extension": ".py",
   "mimetype": "text/x-python",
   "name": "python",
   "nbconvert_exporter": "python",
   "pygments_lexer": "ipython3",
   "version": "3.8.5"
  }
 },
 "nbformat": 4,
 "nbformat_minor": 4
}
