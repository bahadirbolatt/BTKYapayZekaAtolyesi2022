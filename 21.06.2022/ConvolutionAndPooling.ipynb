{
 "cells": [
  {
   "cell_type": "code",
   "execution_count": 18,
   "id": "de8046ed",
   "metadata": {},
   "outputs": [],
   "source": [
    "import numpy as np"
   ]
  },
  {
   "cell_type": "code",
   "execution_count": 40,
   "id": "c11a8aa3",
   "metadata": {},
   "outputs": [
    {
     "data": {
      "text/plain": [
       "array([[405,  45],\n",
       "       [365,  45]])"
      ]
     },
     "execution_count": 40,
     "metadata": {},
     "output_type": "execute_result"
    }
   ],
   "source": [
    "def apply_mask(img, kernel, index_x, index_y):\n",
    "    slice_img = img[index_y:index_y + len(kernel), index_x:index_x + len(kernel)] # önce y yi yazmanın sebebi numpydan dolayı.\n",
    "    return (slice_img * kernel).sum()\n",
    "\n",
    "def convolve(img, kernel):\n",
    "    _list = []\n",
    "    for i in range(len(img) - len(kernel) + 1):\n",
    "        for j in range(len(img) - len(kernel) +1):\n",
    "            _list.append(apply_mask(img, kernel, j, i))\n",
    "    return np.array(_list).reshape(len(kernel), len(kernel))       \n",
    "\n",
    "def relu(array):\n",
    "    return np.maximum(0, array)\n",
    "\n",
    "def max_pool(array):\n",
    "    _list = []\n",
    "    for i in range(len(array) - 1):\n",
    "        for j in range(len(array) - 1):\n",
    "            _list.append(max((array[i:i+2,j:j+2]).flatten()))\n",
    "    return np.array(_list).reshape(len(array)-1,len(array)-1)\n",
    "\n",
    "max_pool(relu(convolve(array,kernel)))"
   ]
  },
  {
   "cell_type": "code",
   "execution_count": 44,
   "id": "d65addfd",
   "metadata": {},
   "outputs": [],
   "source": [
    "array = np.array([[50, 110 ,180, 130, 60],\n",
    "                  [55, 115, 190, 120, 50],\n",
    "                  [40, 100, 180, 120, 60],\n",
    "                  [30, 80, 120, 100, 40],\n",
    "                  [10, 70, 90, 70, 10]])\n",
    "\n",
    "kernel = np.array([[-1,0,1],[-1,0,1],[-1,0,1]])"
   ]
  },
  {
   "cell_type": "code",
   "execution_count": 45,
   "id": "37c9cc80",
   "metadata": {},
   "outputs": [
    {
     "data": {
      "text/plain": [
       "310"
      ]
     },
     "execution_count": 45,
     "metadata": {},
     "output_type": "execute_result"
    }
   ],
   "source": [
    "apply_mask(array,kernel,0,2)"
   ]
  },
  {
   "cell_type": "code",
   "execution_count": 46,
   "id": "76944cac",
   "metadata": {},
   "outputs": [
    {
     "data": {
      "text/plain": [
       "array([[ 405,   45, -380],\n",
       "       [ 365,   45, -340],\n",
       "       [ 310,   40, -280]])"
      ]
     },
     "execution_count": 46,
     "metadata": {},
     "output_type": "execute_result"
    }
   ],
   "source": [
    "convolve(array, kernel)"
   ]
  }
 ],
 "metadata": {
  "kernelspec": {
   "display_name": "Python 3 (ipykernel)",
   "language": "python",
   "name": "python3"
  },
  "language_info": {
   "codemirror_mode": {
    "name": "ipython",
    "version": 3
   },
   "file_extension": ".py",
   "mimetype": "text/x-python",
   "name": "python",
   "nbconvert_exporter": "python",
   "pygments_lexer": "ipython3",
   "version": "3.9.12"
  }
 },
 "nbformat": 4,
 "nbformat_minor": 5
}
