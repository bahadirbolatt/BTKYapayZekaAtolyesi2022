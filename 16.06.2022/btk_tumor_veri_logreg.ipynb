{
 "cells": [
  {
   "cell_type": "code",
   "execution_count": null,
   "id": "f43aa95a",
   "metadata": {},
   "outputs": [],
   "source": [
    "import pandas as pd\n",
    "import matplotlib.pyplot as py\n",
    "import sklearn as sk\n",
    "import numpy as np\n",
    "from sklearn.model_selection import train_test_split"
   ]
  },
  {
   "cell_type": "code",
   "execution_count": null,
   "id": "4b04af00",
   "metadata": {},
   "outputs": [],
   "source": [
    "cd C:\\Users\\doruk\\Desktop"
   ]
  },
  {
   "cell_type": "code",
   "execution_count": null,
   "id": "62021306",
   "metadata": {},
   "outputs": [],
   "source": [
    "df = pd.read_excel('tumor.xlsx')"
   ]
  },
  {
   "cell_type": "code",
   "execution_count": null,
   "id": "2e485bfe",
   "metadata": {},
   "outputs": [],
   "source": [
    "df.dropna()"
   ]
  },
  {
   "cell_type": "code",
   "execution_count": null,
   "id": "208c7545",
   "metadata": {},
   "outputs": [],
   "source": [
    "from sklearn.preprocessing import StandardScaler"
   ]
  },
  {
   "cell_type": "code",
   "execution_count": null,
   "id": "ecce7ace",
   "metadata": {},
   "outputs": [],
   "source": [
    "df.corr()"
   ]
  },
  {
   "cell_type": "code",
   "execution_count": null,
   "id": "5574fddb",
   "metadata": {},
   "outputs": [],
   "source": [
    "df.pop(\"Tümör Hacmi (mm3)\")"
   ]
  },
  {
   "cell_type": "code",
   "execution_count": null,
   "id": "516ad659",
   "metadata": {},
   "outputs": [],
   "source": [
    "df.pop('Hasta ID')"
   ]
  },
  {
   "cell_type": "code",
   "execution_count": null,
   "id": "e35967ee",
   "metadata": {},
   "outputs": [],
   "source": [
    "sc = StandardScaler()"
   ]
  },
  {
   "cell_type": "code",
   "execution_count": null,
   "id": "1fb48444",
   "metadata": {},
   "outputs": [],
   "source": [
    "y = df.pop('Etiket (İyi Huylu = 0; Kötü Huylu = 1)')\n"
   ]
  },
  {
   "cell_type": "code",
   "execution_count": null,
   "id": "c51832bc",
   "metadata": {},
   "outputs": [],
   "source": [
    "mean_value=df[\"Tümör Yarıçapı (mm)\"].mean()"
   ]
  },
  {
   "cell_type": "code",
   "execution_count": null,
   "id": "612ffe30",
   "metadata": {},
   "outputs": [],
   "source": [
    "df.fillna(value=mean_value, inplace=True)"
   ]
  },
  {
   "cell_type": "code",
   "execution_count": null,
   "id": "137e2efc",
   "metadata": {},
   "outputs": [],
   "source": [
    "np.array(df)"
   ]
  },
  {
   "cell_type": "code",
   "execution_count": null,
   "id": "c3bb0e29",
   "metadata": {},
   "outputs": [],
   "source": [
    "X_train, X_test, y_train, y_test = train_test_split(df, y, train_size=0.66)"
   ]
  },
  {
   "cell_type": "code",
   "execution_count": null,
   "id": "750b894d",
   "metadata": {},
   "outputs": [],
   "source": [
    "sc.fit_transform(X_train)"
   ]
  },
  {
   "cell_type": "code",
   "execution_count": null,
   "id": "6fde2937",
   "metadata": {},
   "outputs": [],
   "source": [
    "sc.transform(X_test)"
   ]
  },
  {
   "cell_type": "code",
   "execution_count": null,
   "id": "a8b9a4c2",
   "metadata": {},
   "outputs": [],
   "source": [
    "from sklearn.linear_model import LogisticRegression\n",
    "from sklearn.linear_model.LogisticRegression import score"
   ]
  },
  {
   "cell_type": "code",
   "execution_count": null,
   "id": "8beaf916",
   "metadata": {},
   "outputs": [],
   "source": [
    "logreg = LogisticRegression()"
   ]
  },
  {
   "cell_type": "code",
   "execution_count": null,
   "id": "2c9b17f9",
   "metadata": {},
   "outputs": [],
   "source": [
    "logreg.fit(X_train, y_train)"
   ]
  },
  {
   "cell_type": "code",
   "execution_count": null,
   "id": "3a7f9600",
   "metadata": {},
   "outputs": [],
   "source": [
    "df.info()"
   ]
  },
  {
   "cell_type": "code",
   "execution_count": null,
   "id": "63b227ed",
   "metadata": {},
   "outputs": [],
   "source": [
    "preds = logreg.predict(X_test)"
   ]
  },
  {
   "cell_type": "code",
   "execution_count": 74,
   "id": "672d7812",
   "metadata": {},
   "outputs": [
    {
     "data": {
      "text/plain": [
       "0.8676470588235294"
      ]
     },
     "execution_count": 74,
     "metadata": {},
     "output_type": "execute_result"
    }
   ],
   "source": [
    "logreg.score(X_test, y_test)"
   ]
  },
  {
   "cell_type": "code",
   "execution_count": 75,
   "id": "bba4f517",
   "metadata": {},
   "outputs": [],
   "source": []
  },
  {
   "cell_type": "code",
   "execution_count": 76,
   "id": "48b88a10",
   "metadata": {},
   "outputs": [
    {
     "data": {
      "text/html": [
       "<div>\n",
       "<style scoped>\n",
       "    .dataframe tbody tr th:only-of-type {\n",
       "        vertical-align: middle;\n",
       "    }\n",
       "\n",
       "    .dataframe tbody tr th {\n",
       "        vertical-align: top;\n",
       "    }\n",
       "\n",
       "    .dataframe thead th {\n",
       "        text-align: right;\n",
       "    }\n",
       "</style>\n",
       "<table border=\"1\" class=\"dataframe\">\n",
       "  <thead>\n",
       "    <tr style=\"text-align: right;\">\n",
       "      <th></th>\n",
       "      <th>Hasta ID</th>\n",
       "      <th>Tümör Yarıçapı (mm)</th>\n",
       "      <th>Tümör Hacmi (mm3)</th>\n",
       "      <th>Bağ Dokusu (Yok = 0; Var = 1)</th>\n",
       "      <th>Diferansiasyon Hızı (mm/yıl)</th>\n",
       "      <th>Etiket (İyi Huylu = 0; Kötü Huylu = 1)</th>\n",
       "    </tr>\n",
       "  </thead>\n",
       "  <tbody>\n",
       "    <tr>\n",
       "      <th>0</th>\n",
       "      <td>1</td>\n",
       "      <td>102.0</td>\n",
       "      <td>4.441814e+06</td>\n",
       "      <td>1</td>\n",
       "      <td>0.229958</td>\n",
       "      <td>1</td>\n",
       "    </tr>\n",
       "    <tr>\n",
       "      <th>1</th>\n",
       "      <td>2</td>\n",
       "      <td>79.0</td>\n",
       "      <td>2.063676e+06</td>\n",
       "      <td>0</td>\n",
       "      <td>12.757216</td>\n",
       "      <td>1</td>\n",
       "    </tr>\n",
       "    <tr>\n",
       "      <th>2</th>\n",
       "      <td>3</td>\n",
       "      <td>8.0</td>\n",
       "      <td>2.143569e+03</td>\n",
       "      <td>1</td>\n",
       "      <td>8.317290</td>\n",
       "      <td>0</td>\n",
       "    </tr>\n",
       "    <tr>\n",
       "      <th>3</th>\n",
       "      <td>4</td>\n",
       "      <td>46.0</td>\n",
       "      <td>4.074118e+05</td>\n",
       "      <td>1</td>\n",
       "      <td>6.818729</td>\n",
       "      <td>1</td>\n",
       "    </tr>\n",
       "    <tr>\n",
       "      <th>4</th>\n",
       "      <td>5</td>\n",
       "      <td>18.0</td>\n",
       "      <td>2.441131e+04</td>\n",
       "      <td>1</td>\n",
       "      <td>2.802301</td>\n",
       "      <td>0</td>\n",
       "    </tr>\n",
       "    <tr>\n",
       "      <th>...</th>\n",
       "      <td>...</td>\n",
       "      <td>...</td>\n",
       "      <td>...</td>\n",
       "      <td>...</td>\n",
       "      <td>...</td>\n",
       "      <td>...</td>\n",
       "    </tr>\n",
       "    <tr>\n",
       "      <th>195</th>\n",
       "      <td>196</td>\n",
       "      <td>3.0</td>\n",
       "      <td>1.144339e+02</td>\n",
       "      <td>1</td>\n",
       "      <td>12.918214</td>\n",
       "      <td>1</td>\n",
       "    </tr>\n",
       "    <tr>\n",
       "      <th>196</th>\n",
       "      <td>197</td>\n",
       "      <td>98.0</td>\n",
       "      <td>3.939472e+06</td>\n",
       "      <td>1</td>\n",
       "      <td>7.251313</td>\n",
       "      <td>1</td>\n",
       "    </tr>\n",
       "    <tr>\n",
       "      <th>197</th>\n",
       "      <td>198</td>\n",
       "      <td>78.0</td>\n",
       "      <td>1.986295e+06</td>\n",
       "      <td>1</td>\n",
       "      <td>14.580827</td>\n",
       "      <td>1</td>\n",
       "    </tr>\n",
       "    <tr>\n",
       "      <th>198</th>\n",
       "      <td>199</td>\n",
       "      <td>28.0</td>\n",
       "      <td>9.188319e+04</td>\n",
       "      <td>0</td>\n",
       "      <td>1.901218</td>\n",
       "      <td>0</td>\n",
       "    </tr>\n",
       "    <tr>\n",
       "      <th>199</th>\n",
       "      <td>200</td>\n",
       "      <td>10.0</td>\n",
       "      <td>4.187592e+03</td>\n",
       "      <td>1</td>\n",
       "      <td>2.371764</td>\n",
       "      <td>0</td>\n",
       "    </tr>\n",
       "  </tbody>\n",
       "</table>\n",
       "<p>200 rows × 6 columns</p>\n",
       "</div>"
      ],
      "text/plain": [
       "     Hasta ID  Tümör Yarıçapı (mm)  Tümör Hacmi (mm3)  \\\n",
       "0           1                102.0       4.441814e+06   \n",
       "1           2                 79.0       2.063676e+06   \n",
       "2           3                  8.0       2.143569e+03   \n",
       "3           4                 46.0       4.074118e+05   \n",
       "4           5                 18.0       2.441131e+04   \n",
       "..        ...                  ...                ...   \n",
       "195       196                  3.0       1.144339e+02   \n",
       "196       197                 98.0       3.939472e+06   \n",
       "197       198                 78.0       1.986295e+06   \n",
       "198       199                 28.0       9.188319e+04   \n",
       "199       200                 10.0       4.187592e+03   \n",
       "\n",
       "     Bağ Dokusu (Yok = 0; Var = 1)  Diferansiasyon Hızı (mm/yıl)  \\\n",
       "0                                1                      0.229958   \n",
       "1                                0                     12.757216   \n",
       "2                                1                      8.317290   \n",
       "3                                1                      6.818729   \n",
       "4                                1                      2.802301   \n",
       "..                             ...                           ...   \n",
       "195                              1                     12.918214   \n",
       "196                              1                      7.251313   \n",
       "197                              1                     14.580827   \n",
       "198                              0                      1.901218   \n",
       "199                              1                      2.371764   \n",
       "\n",
       "     Etiket (İyi Huylu = 0; Kötü Huylu = 1)  \n",
       "0                                         1  \n",
       "1                                         1  \n",
       "2                                         0  \n",
       "3                                         1  \n",
       "4                                         0  \n",
       "..                                      ...  \n",
       "195                                       1  \n",
       "196                                       1  \n",
       "197                                       1  \n",
       "198                                       0  \n",
       "199                                       0  \n",
       "\n",
       "[200 rows x 6 columns]"
      ]
     },
     "execution_count": 76,
     "metadata": {},
     "output_type": "execute_result"
    }
   ],
   "source": []
  },
  {
   "cell_type": "code",
   "execution_count": null,
   "id": "a83f1e6c",
   "metadata": {},
   "outputs": [],
   "source": []
  }
 ],
 "metadata": {
  "kernelspec": {
   "display_name": "Python 3 (ipykernel)",
   "language": "python",
   "name": "python3"
  },
  "language_info": {
   "codemirror_mode": {
    "name": "ipython",
    "version": 3
   },
   "file_extension": ".py",
   "mimetype": "text/x-python",
   "name": "python",
   "nbconvert_exporter": "python",
   "pygments_lexer": "ipython3",
   "version": "3.9.7"
  }
 },
 "nbformat": 4,
 "nbformat_minor": 5
}
